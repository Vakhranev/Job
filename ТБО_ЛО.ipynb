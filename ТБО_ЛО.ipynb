{
  "nbformat": 4,
  "nbformat_minor": 0,
  "metadata": {
    "colab": {
      "name": "ТБО ЛО.ipynb",
      "provenance": [],
      "collapsed_sections": [],
      "authorship_tag": "ABX9TyPGkDjgxfF73sN6vNdNjNTG",
      "include_colab_link": true
    },
    "kernelspec": {
      "name": "python3",
      "display_name": "Python 3"
    }
  },
  "cells": [
    {
      "cell_type": "markdown",
      "metadata": {
        "id": "view-in-github",
        "colab_type": "text"
      },
      "source": [
        "<a href=\"https://colab.research.google.com/github/Vakhranev/Job/blob/main/%D0%A2%D0%91%D0%9E_%D0%9B%D0%9E.ipynb\" target=\"_parent\"><img src=\"https://colab.research.google.com/assets/colab-badge.svg\" alt=\"Open In Colab\"/></a>"
      ]
    },
    {
      "cell_type": "code",
      "metadata": {
        "colab": {
          "base_uri": "https://localhost:8080/"
        },
        "id": "LRJExCR6KkVH",
        "outputId": "6dc904e5-1dae-4700-b1e3-3b8efd80c3f8"
      },
      "source": [
        "!apt-get install python3-pypdf2\n",
        "import PyPDF2, os\n",
        "import shutil\n",
        "#os.chdir('C:\\\\Users\\\\игорь\\\\Desktop\\\\Новая папка')\n",
        "# Get all the PDF filenames.\n",
        "import re\n",
        "def sorted_alphanumeric(data):\n",
        "    convert = lambda text: int(text) if text.isdigit() else text.lower()\n",
        "    alphanum_key = lambda key: [ convert(c) for c in re.split('([0-9]+)', key) ] \n",
        "    return sorted(data, key=alphanum_key)\n",
        " \n",
        "def create_pdf(directory):\n",
        "    #Получаем список файлов в переменную files \n",
        "    files = sorted_alphanumeric(os.listdir(directory)) \n",
        "    merger = PyPDF2.PdfFileMerger()\n",
        "    address = 1\n",
        "    inv = 2\n",
        "    c_inv = 3\n",
        "    act = 4\n",
        "    c_act = 5\n",
        " \n",
        "    for filename in files:\n",
        "        if filename.startswith('_'):\n",
        "            shutil.copyfile(filename, 'copy'+filename)\n",
        "    for filename in files:\n",
        "        if filename.startswith('ADDRESS_BLOCK'):\n",
        "            os.rename(filename, str(address)+'.PDF')\n",
        "            address += 5\n",
        "        if filename.startswith('_'):\n",
        "            shutil.copyfile(filename, 'copy'+filename)\n",
        "        if filename.startswith('_inv'):\n",
        "            os.rename(filename, str(inv)+'.PDF')\n",
        "            inv += 5\n",
        "        if filename.startswith('copy_inv'):\n",
        "            os.rename(filename, str(c_inv)+'.PDF')\n",
        "            c_inv += 5\n",
        "        if filename.startswith('_act'):\n",
        "            os.rename(filename, str(act)+'.PDF')\n",
        "            act += 5\n",
        "        if filename.startswith('copy_act'):\n",
        "            os.rename(filename, str(c_act)+'.PDF')\n",
        "            c_act += 5\n",
        "    files = sorted_alphanumeric(os.listdir(directory))\n",
        "    print(files)\n",
        "    for filename in files:\n",
        "        if filename.endswith('.PDF'):\n",
        "            merger.append(fileobj=open(os.path.join(directory,filename),'rb'))\n",
        "    \n",
        "    merger.write(open(os.path.join(directory,'book.pdf'), 'wb'))\n",
        "create_pdf(os.getcwd())"
      ],
      "execution_count": null,
      "outputs": [
        {
          "output_type": "stream",
          "text": [
            "Reading package lists... Done\n",
            "Building dependency tree       \n",
            "Reading state information... Done\n",
            "python3-pypdf2 is already the newest version (1.26.0-2).\n",
            "0 upgraded, 0 newly installed, 0 to remove and 31 not upgraded.\n",
            "['1.PDF', '2.PDF', '3.PDF', '4.PDF', '5.PDF', '6.PDF', '7.PDF', '8.PDF', '9.PDF', '10.PDF', '11.PDF', '12.PDF', '13.PDF', '14.PDF', '15.PDF', '16.PDF', '17.PDF', '18.PDF', '19.PDF', '20.PDF', '21.PDF', '22.PDF', '23.PDF', '24.PDF', '25.PDF', '26.PDF', '27.PDF', '28.PDF', '29.PDF', '30.PDF', '31.PDF', '32.PDF', '33.PDF', '34.PDF', '35.PDF', '36.PDF', '37.PDF', '38.PDF', '39.PDF', '40.PDF', '41.PDF', '42.PDF', '43.PDF', '44.PDF', '45.PDF', '46.PDF', '47.PDF', '48.PDF', '49.PDF', '50.PDF', '51.PDF', '52.PDF', '53.PDF', '54.PDF', '55.PDF', '56.PDF', '57.PDF', '58.PDF', '59.PDF', '60.PDF', '61.PDF', '62.PDF', '63.PDF', '64.PDF', '65.PDF', '66.PDF', '67.PDF', '68.PDF', '69.PDF', '70.PDF', '71.PDF', '72.PDF', '73.PDF', '74.PDF', '75.PDF', '76.PDF', '77.PDF', '78.PDF', '79.PDF', '80.PDF', '81.PDF', '82.PDF', '83.PDF', '84.PDF', '85.PDF', '86.PDF', '87.PDF', '88.PDF', '89.PDF', '90.PDF', '91.PDF', '92.PDF', '93.PDF', '94.PDF', '95.PDF', '96.PDF', '97.PDF', '98.PDF', '99.PDF', '100.PDF', '101.PDF', '102.PDF', '103.PDF', '104.PDF', '105.PDF', '106.PDF', '107.PDF', '108.PDF', '109.PDF', '110.PDF', '111.PDF', '112.PDF', '113.PDF', '114.PDF', '115.PDF', '116.PDF', '117.PDF', '118.PDF', '119.PDF', '120.PDF', '121.PDF', '122.PDF', '123.PDF', '124.PDF', '125.PDF', '126.PDF', '127.PDF', '128.PDF', '129.PDF', '130.PDF', '131.PDF', '132.PDF', '133.PDF', '134.PDF', '135.PDF', '136.PDF', '137.PDF', '138.PDF', '139.PDF', '140.PDF', '141.PDF', '142.PDF', '143.PDF', '144.PDF', '145.PDF', '146.PDF', '147.PDF', '148.PDF', '149.PDF', '150.PDF', '151.PDF', '152.PDF', '153.PDF', '154.PDF', '155.PDF', '156.PDF', '157.PDF', '158.PDF', '159.PDF', '160.PDF', '161.PDF', '162.PDF', '163.PDF', '164.PDF', '165.PDF', '166.PDF', '167.PDF', '168.PDF', '169.PDF', '170.PDF', '171.PDF', '172.PDF', '173.PDF', '174.PDF', '175.PDF', '176.PDF', '177.PDF', '178.PDF', '179.PDF', '180.PDF', '181.PDF', '182.PDF', '183.PDF', '184.PDF', '185.PDF', '186.PDF', '187.PDF', '188.PDF', '189.PDF', '190.PDF', '191.PDF', '192.PDF', '193.PDF', '194.PDF', '195.PDF', '196.PDF', '197.PDF', '198.PDF', '199.PDF', '200.PDF', '201.PDF', '202.PDF', '203.PDF', '204.PDF', '205.PDF', '206.PDF', '207.PDF', '208.PDF', '209.PDF', '210.PDF', '211.PDF', '212.PDF', '213.PDF', '214.PDF', '215.PDF', '216.PDF', '217.PDF', '218.PDF', '219.PDF', '220.PDF', '221.PDF', '222.PDF', '223.PDF', '224.PDF', '225.PDF', '226.PDF', '227.PDF', '228.PDF', '229.PDF', '230.PDF', '231.PDF', '232.PDF', '233.PDF', '234.PDF', '235.PDF', '236.PDF', '237.PDF', '238.PDF', '239.PDF', '240.PDF', '241.PDF', '242.PDF', '243.PDF', '244.PDF', '245.PDF', '246.PDF', '247.PDF', '248.PDF', '249.PDF', '250.PDF', '251.PDF', '252.PDF', '253.PDF', '254.PDF', '255.PDF', '256.PDF', '257.PDF', '258.PDF', '259.PDF', '260.PDF', '261.PDF', '262.PDF', '263.PDF', '264.PDF', '265.PDF', '266.PDF', '267.PDF', '268.PDF', '269.PDF', '270.PDF', '271.PDF', '272.PDF', '273.PDF', '274.PDF', '275.PDF', '276.PDF', '277.PDF', '278.PDF', '279.PDF', '280.PDF', '281.PDF', '282.PDF', '283.PDF', '284.PDF', '285.PDF', '286.PDF', '287.PDF', '288.PDF', '289.PDF', '290.PDF', '291.PDF', '292.PDF', '293.PDF', '294.PDF', '295.PDF', '296.PDF', '297.PDF', '298.PDF', '299.PDF', '300.PDF', '301.PDF', '302.PDF', '303.PDF', '304.PDF', '305.PDF', '306.PDF', '307.PDF', '308.PDF', '309.PDF', '310.PDF', '311.PDF', '312.PDF', '313.PDF', '314.PDF', '315.PDF', '316.PDF', '317.PDF', '318.PDF', '319.PDF', '320.PDF', '321.PDF', '322.PDF', '323.PDF', '324.PDF', '325.PDF', '326.PDF', '327.PDF', '328.PDF', '329.PDF', '330.PDF', '331.PDF', '332.PDF', '333.PDF', '334.PDF', '335.PDF', '336.PDF', '337.PDF', '338.PDF', '339.PDF', '340.PDF', '341.PDF', '342.PDF', '343.PDF', '344.PDF', '345.PDF', '346.PDF', '347.PDF', '348.PDF', '349.PDF', '350.PDF', '351.PDF', '352.PDF', '353.PDF', '354.PDF', '355.PDF', '356.PDF', '357.PDF', '358.PDF', '359.PDF', '360.PDF', '361.PDF', '362.PDF', '363.PDF', '364.PDF', '365.PDF', '366.PDF', '367.PDF', '368.PDF', '369.PDF', '370.PDF', '371.PDF', '372.PDF', '373.PDF', '374.PDF', '375.PDF', '376.PDF', '377.PDF', '378.PDF', '379.PDF', '380.PDF', '381.PDF', '382.PDF', '383.PDF', '384.PDF', '385.PDF', '386.PDF', '387.PDF', '388.PDF', '389.PDF', '390.PDF', '391.PDF', '392.PDF', '393.PDF', '394.PDF', '395.PDF', '396.PDF', '397.PDF', '398.PDF', '399.PDF', '400.PDF', '401.PDF', '402.PDF', '403.PDF', '404.PDF', '405.PDF', '406.PDF', '407.PDF', '408.PDF', '409.PDF', '410.PDF', '411.PDF', '412.PDF', '413.PDF', '414.PDF', '415.PDF', '416.PDF', '417.PDF', '418.PDF', '419.PDF', '420.PDF', '421.PDF', '422.PDF', '423.PDF', '424.PDF', '425.PDF', '426.PDF', '427.PDF', '428.PDF', '429.PDF', '430.PDF', '431.PDF', '432.PDF', '433.PDF', '434.PDF', '435.PDF', '436.PDF', '437.PDF', '438.PDF', '439.PDF', '440.PDF', '441.PDF', '442.PDF', '443.PDF', '444.PDF', '445.PDF', '446.PDF', '447.PDF', '448.PDF', '449.PDF', '450.PDF', '451.PDF', '452.PDF', '453.PDF', '454.PDF', '455.PDF', '456.PDF', '457.PDF', '458.PDF', '459.PDF', '460.PDF', '461.PDF', '462.PDF', '463.PDF', '464.PDF', '465.PDF', '466.PDF', '467.PDF', '468.PDF', '469.PDF', '470.PDF', '471.PDF', '472.PDF', '473.PDF', '474.PDF', '475.PDF', '476.PDF', '477.PDF', '478.PDF', '479.PDF', '480.PDF', '481.PDF', '482.PDF', '483.PDF', '484.PDF', '485.PDF', '486.PDF', '487.PDF', '488.PDF', '489.PDF', '490.PDF', '491.PDF', '492.PDF', '493.PDF', '494.PDF', '495.PDF', '496.PDF', '497.PDF', '498.PDF', '499.PDF', '500.PDF', '501.PDF', '502.PDF', '503.PDF', '504.PDF', '505.PDF', '506.PDF', '507.PDF', '508.PDF', '509.PDF', '510.PDF', '511.PDF', '512.PDF', '513.PDF', '514.PDF', '515.PDF', '516.PDF', '517.PDF', '518.PDF', '519.PDF', '520.PDF', '521.PDF', '522.PDF', '523.PDF', '524.PDF', '525.PDF', '526.PDF', '527.PDF', '528.PDF', '529.PDF', '530.PDF', '531.PDF', '532.PDF', '533.PDF', '534.PDF', '535.PDF', '536.PDF', '537.PDF', '538.PDF', '539.PDF', '540.PDF', '541.PDF', '542.PDF', '543.PDF', '544.PDF', '545.PDF', '546.PDF', '547.PDF', '548.PDF', '549.PDF', '550.PDF', '551.PDF', '552.PDF', '553.PDF', '554.PDF', '555.PDF', '556.PDF', '557.PDF', '558.PDF', '559.PDF', '560.PDF', '561.PDF', '562.PDF', '563.PDF', '564.PDF', '565.PDF', '566.PDF', '567.PDF', '568.PDF', '569.PDF', '570.PDF', '571.PDF', '572.PDF', '573.PDF', '574.PDF', '575.PDF', '576.PDF', '577.PDF', '578.PDF', '579.PDF', '580.PDF', '581.PDF', '582.PDF', '583.PDF', '584.PDF', '585.PDF', '586.PDF', '587.PDF', '588.PDF', '589.PDF', '590.PDF', '591.PDF', '592.PDF', '593.PDF', '594.PDF', '595.PDF', '.config', 'book.pdf', 'sample_data']\n"
          ],
          "name": "stdout"
        }
      ]
    }
  ]
}